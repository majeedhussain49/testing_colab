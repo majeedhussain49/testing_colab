{
 "cells": [
  {
   "cell_type": "markdown",
   "metadata": {},
   "source": [
    "<a href=\"https://colab.research.google.com/github/majeedhussain49/testing_colab/blob/master/notebooks/Classifier_03.ipynb\" target=\"_parent\"><img src=\"https://colab.research.google.com/assets/colab-badge.svg\" alt=\"Open In Colab\"/></a>"
   ]
  },
  {
   "cell_type": "markdown",
   "metadata": {},
   "source": [
    "# Resnet34"
   ]
  },
  {
   "cell_type": "markdown",
   "metadata": {},
   "source": [
    "Uncomment the below cell if you are running this notebook in colab"
   ]
  },
  {
   "cell_type": "code",
   "execution_count": 2,
   "metadata": {},
   "outputs": [],
   "source": [
    "#!pip install keras\n",
    "#!pip install matplotlib\n",
    "#!pip install opencv-python\n",
    "#!pip install Pillow\n",
    "#!pip install numpy\n",
    "#!pip install scikit-learn\n",
    "#!pip install git+https://github.com/raghakot/keras-vis.git \n",
    "#!pip install git+https://github.com/totti0223/lucid4keras.git \n",
    "#!pip install coremltools\n",
    "#!pip install imutils\n",
    "#!pip install image-classifiers"
   ]
  },
  {
   "cell_type": "code",
   "execution_count": 2,
   "metadata": {},
   "outputs": [],
   "source": [
    "import warnings\n",
    "warnings.filterwarnings(\"ignore\")\n",
    "\n",
    "import numpy as np\n",
    "import keras\n",
    "from keras import backend as k\n",
    "from keras.models import Sequential\n",
    "from keras.layers import Activation\n",
    "from keras.layers.core import Dense,Flatten,Dropout\n",
    "from keras.optimizers import Adam, RMSprop,SGD\n",
    "from keras.metrics import categorical_crossentropy\n",
    "from keras.preprocessing.image import ImageDataGenerator\n",
    "from keras.layers.normalization import BatchNormalization\n",
    "from keras.layers.convolutional import *\n",
    "from matplotlib import pyplot as plt\n",
    "from sklearn.metrics import confusion_matrix\n",
    "import matplotlib.pyplot as plt\n",
    "import itertools\n",
    "from IPython.display import display\n",
    "from PIL import Image\n",
    "%matplotlib inline"
   ]
  },
  {
   "cell_type": "code",
   "execution_count": 3,
   "metadata": {},
   "outputs": [],
   "source": [
    "#Assigning paths\n",
    "train_path = '../Dataset/train/'\n",
    "valid_path = '../Dataset/validation/'\n",
    "test_path = '../Dataset/test/'"
   ]
  },
  {
   "cell_type": "markdown",
   "metadata": {},
   "source": [
    "Uncomment the below cell if you are running this notebook in colab, you have to upload the Dataset folder in your google drive and later run the following cells to access all the data in your colab."
   ]
  },
  {
   "cell_type": "code",
   "execution_count": 3,
   "metadata": {},
   "outputs": [],
   "source": [
    "#from google.colab import drive\n",
    "#drive.mount('/content/gdrive')"
   ]
  },
  {
   "cell_type": "code",
   "execution_count": 4,
   "metadata": {},
   "outputs": [],
   "source": [
    "#Assigning paths\n",
    "#train_path = '/content/Dataset/train/'\n",
    "#valid_path = '/content/Dataset/validation/'\n",
    "#test_path = '/content//Dataset/test/'"
   ]
  },
  {
   "cell_type": "code",
   "execution_count": 4,
   "metadata": {},
   "outputs": [],
   "source": [
    "# plotting images with labels\n",
    "def plots(ims, figsize=(12,6), rows=2, interp=False, titles=None):\n",
    "    if type(ims[0]) is np.ndarray:\n",
    "        ims = np.array(ims).astype(np.uint8)\n",
    "        if (ims.shape[-1]!=3):\n",
    "            ims = ims.transpose((0,2,3,1))\n",
    "    f = plt.figure(figsize=figsize)\n",
    "    cols = len(ims)//rows if len(ims)%2==0 else len(ims)//rows + 1\n",
    "    for i in range(len(ims)):\n",
    "        sp = f.add_subplot(rows,cols,i+1)\n",
    "        sp.axis('off')\n",
    "        if titles is not None:\n",
    "            sp.set_title(titles[i],fontsize=16)\n",
    "        plt.imshow(ims[i],interpolation = None if interp else 'none')"
   ]
  },
  {
   "cell_type": "code",
   "execution_count": 5,
   "metadata": {},
   "outputs": [
    {
     "name": "stdout",
     "output_type": "stream",
     "text": [
      "Found 11200 images belonging to 7 classes.\n",
      "Found 2800 images belonging to 7 classes.\n",
      "Found 70 images belonging to 7 classes.\n"
     ]
    }
   ],
   "source": [
    "train_datagen = ImageDataGenerator(\n",
    "      rescale=1./255,\n",
    "       rotation_range=20,\n",
    "       width_shift_range=0.2,\n",
    "       height_shift_range=0.2,\n",
    "       horizontal_flip=True,\n",
    "       fill_mode='nearest'\n",
    ")\n",
    " \n",
    "validation_datagen = ImageDataGenerator(rescale=1./255)\n",
    " \n",
    "# Change the batchsize according to your system RAM\n",
    "train_batchsize = 16\n",
    "val_batchsize = 16\n",
    "test_batchsize = 10\n",
    "train_generator = train_datagen.flow_from_directory(\n",
    "        train_path,\n",
    "        target_size=(256, 256),\n",
    "        batch_size=train_batchsize,\n",
    "        classes =['Black_Measles','Blackrot','Isariopsis',\"MDB_disease\",\"No_disease\",\"Spyder\",\"mildiou\"]\n",
    "        )\n",
    " \n",
    "validation_generator = validation_datagen.flow_from_directory(\n",
    "        valid_path,\n",
    "        target_size=(256, 256),\n",
    "        batch_size=val_batchsize,\n",
    "        classes=['Black_Measles','Blackrot','Isariopsis',\"MDB_disease\",\"No_disease\",\"Spyder\",\"mildiou\"]\n",
    "        ,\n",
    "        shuffle=True)\n",
    "test_generator = validation_datagen.flow_from_directory(test_path,\n",
    "        target_size=(256, 256),\n",
    "        batch_size=val_batchsize,\n",
    "        classes =['Black_Measles','Blackrot','Isariopsis',\"MDB_disease\",\"No_disease\",\"Spyder\",\"mildiou\"]\n",
    "        ,\n",
    "        shuffle=False)"
   ]
  },
  {
   "cell_type": "code",
   "execution_count": 7,
   "metadata": {},
   "outputs": [],
   "source": [
    "from classification_models.keras import Classifiers\n",
    "from keras.layers import GlobalAveragePooling2D,Flatten\n",
    "from keras.models import Model\n",
    "ResNet34, preprocess_input = Classifiers.get('resnet34')\n",
    "\n",
    "n_classes = 7\n",
    "\n",
    "# build model\n",
    "base_model = ResNet34(input_shape=(256,256,3), weights='imagenet', include_top=False)\n",
    "model =Sequential()\n",
    "model.add(base_model)\n",
    "headModel = model.output\n",
    "\n",
    "headModel = Flatten(name=\"flatten\")(headModel)\n",
    "headModel = Dense(512, activation=\"relu\")(headModel)\n",
    "headModel = Dropout(0.5)(headModel)\n",
    "headModel = Dense(128, activation=\"relu\")(headModel)\n",
    "headModel = Dropout(0.25)(headModel)\n",
    "headModel = Dense(7, activation=\"softmax\")(headModel)\n",
    "model = Model(inputs=model.input, outputs=headModel)\n",
    "\n"
   ]
  },
  {
   "cell_type": "code",
   "execution_count": 8,
   "metadata": {},
   "outputs": [
    {
     "name": "stdout",
     "output_type": "stream",
     "text": [
      "_________________________________________________________________\n",
      "Layer (type)                 Output Shape              Param #   \n",
      "=================================================================\n",
      "model_3_input (InputLayer)   (None, 256, 256, 3)       0         \n",
      "_________________________________________________________________\n",
      "model_3 (Model)              (None, 8, 8, 512)         21302473  \n",
      "_________________________________________________________________\n",
      "flatten (Flatten)            (None, 32768)             0         \n",
      "_________________________________________________________________\n",
      "dense_4 (Dense)              (None, 512)               16777728  \n",
      "_________________________________________________________________\n",
      "dropout_3 (Dropout)          (None, 512)               0         \n",
      "_________________________________________________________________\n",
      "dense_5 (Dense)              (None, 128)               65664     \n",
      "_________________________________________________________________\n",
      "dropout_4 (Dropout)          (None, 128)               0         \n",
      "_________________________________________________________________\n",
      "dense_6 (Dense)              (None, 7)                 903       \n",
      "=================================================================\n",
      "Total params: 38,146,768\n",
      "Trainable params: 38,131,402\n",
      "Non-trainable params: 15,366\n",
      "_________________________________________________________________\n"
     ]
    }
   ],
   "source": [
    "model.summary()"
   ]
  },
  {
   "cell_type": "code",
   "execution_count": 9,
   "metadata": {},
   "outputs": [],
   "source": [
    "opt = SGD(lr=1e-4, momentum=0.9)\n",
    "model.compile(loss=\"categorical_crossentropy\", optimizer=opt,metrics=[\"accuracy\"])"
   ]
  },
  {
   "cell_type": "code",
   "execution_count": 10,
   "metadata": {},
   "outputs": [],
   "source": [
    "# Save the model according to the conditions  \n",
    "from keras.callbacks import ModelCheckpoint, LearningRateScheduler, TensorBoard, EarlyStopping\n",
    "\n",
    "checkpoint = ModelCheckpoint(\"../saved_models/resnet34.h5\", monitor='loss', verbose=1, save_best_only=True, save_weights_only=False, mode='auto', period=1)\n",
    "\n",
    "early = EarlyStopping(monitor='loss', min_delta=0, patience=10, verbose=1, mode='auto')\n"
   ]
  },
  {
   "cell_type": "code",
   "execution_count": 13,
   "metadata": {},
   "outputs": [
    {
     "name": "stdout",
     "output_type": "stream",
     "text": [
      "Epoch 1/50\n",
      "700/700 [==============================] - 264s 378ms/step - loss: 0.8046 - acc: 0.7309 - val_loss: 0.2249 - val_acc: 0.9186\n",
      "\n",
      "Epoch 00001: loss improved from inf to 0.80461, saving model to ../saved_models/resnet34.h5\n",
      "Epoch 2/50\n",
      "700/700 [==============================] - 256s 366ms/step - loss: 0.2913 - acc: 0.9042 - val_loss: 0.1519 - val_acc: 0.9471\n",
      "\n",
      "Epoch 00002: loss improved from 0.80461 to 0.29133, saving model to ../saved_models/resnet34.h5\n",
      "Epoch 3/50\n",
      "700/700 [==============================] - 256s 366ms/step - loss: 0.2070 - acc: 0.9324 - val_loss: 0.1172 - val_acc: 0.9618\n",
      "\n",
      "Epoch 00003: loss improved from 0.29133 to 0.20703, saving model to ../saved_models/resnet34.h5\n",
      "Epoch 4/50\n",
      "700/700 [==============================] - 256s 366ms/step - loss: 0.1578 - acc: 0.9496 - val_loss: 0.1052 - val_acc: 0.9686\n",
      "\n",
      "Epoch 00004: loss improved from 0.20703 to 0.15782, saving model to ../saved_models/resnet34.h5\n",
      "Epoch 5/50\n",
      "700/700 [==============================] - 257s 366ms/step - loss: 0.1407 - acc: 0.9541 - val_loss: 0.0997 - val_acc: 0.9700\n",
      "\n",
      "Epoch 00005: loss improved from 0.15782 to 0.14068, saving model to ../saved_models/resnet34.h5\n",
      "Epoch 6/50\n",
      "700/700 [==============================] - 256s 366ms/step - loss: 0.1192 - acc: 0.9629 - val_loss: 0.1109 - val_acc: 0.9650\n",
      "\n",
      "Epoch 00006: loss improved from 0.14068 to 0.11921, saving model to ../saved_models/resnet34.h5\n",
      "Epoch 7/50\n",
      "700/700 [==============================] - 256s 366ms/step - loss: 0.1065 - acc: 0.9679 - val_loss: 0.0968 - val_acc: 0.9711\n",
      "\n",
      "Epoch 00007: loss improved from 0.11921 to 0.10649, saving model to ../saved_models/resnet34.h5\n",
      "Epoch 8/50\n",
      "700/700 [==============================] - 256s 365ms/step - loss: 0.0952 - acc: 0.9718 - val_loss: 0.0940 - val_acc: 0.9721\n",
      "\n",
      "Epoch 00008: loss improved from 0.10649 to 0.09520, saving model to ../saved_models/resnet34.h5\n",
      "Epoch 9/50\n",
      "700/700 [==============================] - 257s 367ms/step - loss: 0.0879 - acc: 0.9729 - val_loss: 0.0912 - val_acc: 0.9739\n",
      "\n",
      "Epoch 00009: loss improved from 0.09520 to 0.08792, saving model to ../saved_models/resnet34.h5\n",
      "Epoch 10/50\n",
      "700/700 [==============================] - 257s 366ms/step - loss: 0.0760 - acc: 0.9780 - val_loss: 0.1043 - val_acc: 0.9729\n",
      "\n",
      "Epoch 00010: loss improved from 0.08792 to 0.07601, saving model to ../saved_models/resnet34.h5\n",
      "Epoch 11/50\n",
      "700/700 [==============================] - 256s 366ms/step - loss: 0.0773 - acc: 0.9752 - val_loss: 0.0809 - val_acc: 0.9761\n",
      "\n",
      "Epoch 00011: loss did not improve from 0.07601\n",
      "Epoch 12/50\n",
      "700/700 [==============================] - 257s 368ms/step - loss: 0.0678 - acc: 0.9777 - val_loss: 0.0680 - val_acc: 0.9821\n",
      "\n",
      "Epoch 00012: loss improved from 0.07601 to 0.06782, saving model to ../saved_models/resnet34.h5\n",
      "Epoch 13/50\n",
      "700/700 [==============================] - 256s 366ms/step - loss: 0.0604 - acc: 0.9816 - val_loss: 0.0590 - val_acc: 0.9821\n",
      "\n",
      "Epoch 00013: loss improved from 0.06782 to 0.06037, saving model to ../saved_models/resnet34.h5\n",
      "Epoch 14/50\n",
      "700/700 [==============================] - 256s 365ms/step - loss: 0.0578 - acc: 0.9816 - val_loss: 0.0525 - val_acc: 0.9868\n",
      "\n",
      "Epoch 00014: loss improved from 0.06037 to 0.05779, saving model to ../saved_models/resnet34.h5\n",
      "Epoch 15/50\n",
      "700/700 [==============================] - 257s 367ms/step - loss: 0.0601 - acc: 0.9821 - val_loss: 0.0600 - val_acc: 0.9857\n",
      "\n",
      "Epoch 00015: loss did not improve from 0.05779\n",
      "Epoch 16/50\n",
      "700/700 [==============================] - 256s 366ms/step - loss: 0.0532 - acc: 0.9834 - val_loss: 0.0565 - val_acc: 0.9854\n",
      "\n",
      "Epoch 00016: loss improved from 0.05779 to 0.05318, saving model to ../saved_models/resnet34.h5\n",
      "Epoch 17/50\n",
      "700/700 [==============================] - 257s 367ms/step - loss: 0.0438 - acc: 0.9849 - val_loss: 0.0801 - val_acc: 0.9775\n",
      "\n",
      "Epoch 00017: loss improved from 0.05318 to 0.04381, saving model to ../saved_models/resnet34.h5\n",
      "Epoch 18/50\n",
      "700/700 [==============================] - 257s 367ms/step - loss: 0.0410 - acc: 0.9863 - val_loss: 0.0801 - val_acc: 0.9800\n",
      "\n",
      "Epoch 00018: loss improved from 0.04381 to 0.04101, saving model to ../saved_models/resnet34.h5\n",
      "Epoch 19/50\n",
      "700/700 [==============================] - 256s 366ms/step - loss: 0.0452 - acc: 0.9853 - val_loss: 0.0590 - val_acc: 0.9857\n",
      "\n",
      "Epoch 00019: loss did not improve from 0.04101\n",
      "Epoch 20/50\n",
      "700/700 [==============================] - 256s 366ms/step - loss: 0.0427 - acc: 0.9885 - val_loss: 0.0615 - val_acc: 0.9846\n",
      "\n",
      "Epoch 00020: loss did not improve from 0.04101\n",
      "Epoch 21/50\n",
      "700/700 [==============================] - 257s 367ms/step - loss: 0.0420 - acc: 0.9865 - val_loss: 0.0784 - val_acc: 0.9789\n",
      "\n",
      "Epoch 00021: loss did not improve from 0.04101\n",
      "Epoch 22/50\n",
      "700/700 [==============================] - 263s 376ms/step - loss: 0.0330 - acc: 0.9904 - val_loss: 0.0541 - val_acc: 0.9868\n",
      "\n",
      "Epoch 00022: loss improved from 0.04101 to 0.03302, saving model to ../saved_models/resnet34.h5\n",
      "Epoch 23/50\n",
      "700/700 [==============================] - 263s 375ms/step - loss: 0.0367 - acc: 0.9897 - val_loss: 0.0656 - val_acc: 0.9850\n",
      "\n",
      "Epoch 00023: loss did not improve from 0.03302\n",
      "Epoch 24/50\n",
      "700/700 [==============================] - 259s 370ms/step - loss: 0.0358 - acc: 0.9888 - val_loss: 0.0467 - val_acc: 0.9886\n",
      "\n",
      "Epoch 00024: loss did not improve from 0.03302\n",
      "Epoch 25/50\n",
      "700/700 [==============================] - 260s 372ms/step - loss: 0.0275 - acc: 0.9920 - val_loss: 0.0488 - val_acc: 0.9889\n",
      "\n",
      "Epoch 00025: loss improved from 0.03302 to 0.02753, saving model to ../saved_models/resnet34.h5\n",
      "Epoch 26/50\n",
      "700/700 [==============================] - 262s 374ms/step - loss: 0.0302 - acc: 0.9902 - val_loss: 0.0559 - val_acc: 0.9868\n",
      "\n",
      "Epoch 00026: loss did not improve from 0.02753\n",
      "Epoch 27/50\n",
      "700/700 [==============================] - 261s 372ms/step - loss: 0.0339 - acc: 0.9895 - val_loss: 0.0461 - val_acc: 0.9907\n",
      "\n",
      "Epoch 00027: loss did not improve from 0.02753\n",
      "Epoch 28/50\n",
      "700/700 [==============================] - 262s 375ms/step - loss: 0.0317 - acc: 0.9904 - val_loss: 0.0487 - val_acc: 0.9904\n",
      "\n",
      "Epoch 00028: loss did not improve from 0.02753\n",
      "Epoch 29/50\n",
      "700/700 [==============================] - 264s 378ms/step - loss: 0.0239 - acc: 0.9924 - val_loss: 0.0486 - val_acc: 0.9900\n",
      "\n",
      "Epoch 00029: loss improved from 0.02753 to 0.02387, saving model to ../saved_models/resnet34.h5\n",
      "Epoch 30/50\n",
      "700/700 [==============================] - 266s 379ms/step - loss: 0.0251 - acc: 0.9923 - val_loss: 0.0550 - val_acc: 0.9896\n",
      "\n",
      "Epoch 00030: loss did not improve from 0.02387\n",
      "Epoch 31/50\n",
      "700/700 [==============================] - 264s 377ms/step - loss: 0.0200 - acc: 0.9932 - val_loss: 0.0530 - val_acc: 0.9886\n",
      "\n",
      "Epoch 00031: loss improved from 0.02387 to 0.02004, saving model to ../saved_models/resnet34.h5\n",
      "Epoch 32/50\n",
      "700/700 [==============================] - 266s 380ms/step - loss: 0.0246 - acc: 0.9923 - val_loss: 0.0535 - val_acc: 0.9896\n",
      "\n",
      "Epoch 00032: loss did not improve from 0.02004\n",
      "Epoch 33/50\n",
      "700/700 [==============================] - 261s 374ms/step - loss: 0.0273 - acc: 0.9910 - val_loss: 0.0521 - val_acc: 0.9900\n",
      "\n",
      "Epoch 00033: loss did not improve from 0.02004\n",
      "Epoch 34/50\n",
      "700/700 [==============================] - 263s 375ms/step - loss: 0.0255 - acc: 0.9923 - val_loss: 0.0594 - val_acc: 0.9886\n",
      "\n",
      "Epoch 00034: loss did not improve from 0.02004\n",
      "Epoch 35/50\n",
      "700/700 [==============================] - 263s 376ms/step - loss: 0.0181 - acc: 0.9947 - val_loss: 0.0713 - val_acc: 0.9854\n",
      "\n",
      "Epoch 00035: loss improved from 0.02004 to 0.01806, saving model to ../saved_models/resnet34.h5\n",
      "Epoch 36/50\n",
      "700/700 [==============================] - 262s 374ms/step - loss: 0.0205 - acc: 0.9936 - val_loss: 0.0607 - val_acc: 0.9875\n",
      "\n",
      "Epoch 00036: loss did not improve from 0.01806\n",
      "Epoch 37/50\n",
      "700/700 [==============================] - 266s 380ms/step - loss: 0.0194 - acc: 0.9940 - val_loss: 0.0561 - val_acc: 0.9893\n",
      "\n",
      "Epoch 00037: loss did not improve from 0.01806\n",
      "Epoch 38/50\n",
      "700/700 [==============================] - 262s 374ms/step - loss: 0.0206 - acc: 0.9933 - val_loss: 0.0553 - val_acc: 0.9918\n",
      "\n",
      "Epoch 00038: loss did not improve from 0.01806\n",
      "Epoch 39/50\n",
      "700/700 [==============================] - 263s 376ms/step - loss: 0.0186 - acc: 0.9937 - val_loss: 0.0568 - val_acc: 0.9886\n",
      "\n",
      "Epoch 00039: loss did not improve from 0.01806\n",
      "Epoch 40/50\n"
     ]
    },
    {
     "name": "stdout",
     "output_type": "stream",
     "text": [
      "700/700 [==============================] - 263s 376ms/step - loss: 0.0174 - acc: 0.9938 - val_loss: 0.0538 - val_acc: 0.9914\n",
      "\n",
      "Epoch 00040: loss improved from 0.01806 to 0.01737, saving model to ../saved_models/resnet34.h5\n",
      "Epoch 41/50\n",
      "700/700 [==============================] - 261s 373ms/step - loss: 0.0153 - acc: 0.9954 - val_loss: 0.0525 - val_acc: 0.9911\n",
      "\n",
      "Epoch 00041: loss improved from 0.01737 to 0.01534, saving model to ../saved_models/resnet34.h5\n",
      "Epoch 42/50\n",
      "700/700 [==============================] - 260s 372ms/step - loss: 0.0157 - acc: 0.9950 - val_loss: 0.0567 - val_acc: 0.9911\n",
      "\n",
      "Epoch 00042: loss did not improve from 0.01534\n",
      "Epoch 43/50\n",
      "700/700 [==============================] - 280s 400ms/step - loss: 0.0193 - acc: 0.9938 - val_loss: 0.0596 - val_acc: 0.9889\n",
      "\n",
      "Epoch 00043: loss did not improve from 0.01534\n",
      "Epoch 44/50\n",
      "700/700 [==============================] - 268s 383ms/step - loss: 0.0137 - acc: 0.9954 - val_loss: 0.0451 - val_acc: 0.9918\n",
      "\n",
      "Epoch 00044: loss improved from 0.01534 to 0.01372, saving model to ../saved_models/resnet34.h5\n",
      "Epoch 45/50\n",
      "700/700 [==============================] - 262s 374ms/step - loss: 0.0121 - acc: 0.9963 - val_loss: 0.0547 - val_acc: 0.9907\n",
      "\n",
      "Epoch 00045: loss improved from 0.01372 to 0.01214, saving model to ../saved_models/resnet34.h5\n",
      "Epoch 46/50\n",
      "700/700 [==============================] - 261s 373ms/step - loss: 0.0113 - acc: 0.9959 - val_loss: 0.0588 - val_acc: 0.9907\n",
      "\n",
      "Epoch 00046: loss improved from 0.01214 to 0.01130, saving model to ../saved_models/resnet34.h5\n",
      "Epoch 47/50\n",
      "700/700 [==============================] - 260s 371ms/step - loss: 0.0149 - acc: 0.9948 - val_loss: 0.0593 - val_acc: 0.9918\n",
      "\n",
      "Epoch 00047: loss did not improve from 0.01130\n",
      "Epoch 48/50\n",
      "700/700 [==============================] - 260s 371ms/step - loss: 0.0116 - acc: 0.9963 - val_loss: 0.0532 - val_acc: 0.9911\n",
      "\n",
      "Epoch 00048: loss did not improve from 0.01130\n",
      "Epoch 49/50\n",
      "700/700 [==============================] - 264s 378ms/step - loss: 0.0157 - acc: 0.9954 - val_loss: 0.0650 - val_acc: 0.9896\n",
      "\n",
      "Epoch 00049: loss did not improve from 0.01130\n",
      "Epoch 50/50\n",
      "700/700 [==============================] - 262s 375ms/step - loss: 0.0154 - acc: 0.9954 - val_loss: 0.0528 - val_acc: 0.9918\n",
      "\n",
      "Epoch 00050: loss did not improve from 0.01130\n"
     ]
    }
   ],
   "source": [
    "# Train the model\n",
    "history = model.fit_generator(\n",
    "      train_generator,\n",
    "      steps_per_epoch=train_generator.samples/train_generator.batch_size ,initial_epoch=0,epochs=50,\n",
    "      validation_data=validation_generator,\n",
    "      validation_steps=validation_generator.samples/validation_generator.batch_size,\n",
    "      verbose=1, callbacks=([early,checkpoint]))"
   ]
  },
  {
   "cell_type": "code",
   "execution_count": 14,
   "metadata": {},
   "outputs": [],
   "source": [
    "import pickle\n",
    "\n",
    "# save the model to disk\n",
    "filename = '../saved_models/resnet34.sav'\n",
    "pickle.dump(model, open(filename, 'wb'))"
   ]
  },
  {
   "cell_type": "code",
   "execution_count": 15,
   "metadata": {},
   "outputs": [
    {
     "data": {
      "image/png": "[encoded data removed]",
      "text/plain": [
       "<Figure size 432x288 with 1 Axes>"
      ]
     },
     "metadata": {
      "needs_background": "light"
     },
     "output_type": "display_data"
    },
    {
     "data": {
      "image/png": "[encoded data removed]",
      "text/plain": [
       "<Figure size 432x288 with 1 Axes>"
      ]
     },
     "metadata": {
      "needs_background": "light"
     },
     "output_type": "display_data"
    }
   ],
   "source": [
    "# Plot training & validation accuracy values\n",
    "plt.plot(history.history['acc'])\n",
    "plt.plot(history.history['val_acc'])\n",
    "plt.title('Model accuracy')\n",
    "plt.ylabel('Accuracy')\n",
    "plt.xlabel('Epoch')\n",
    "plt.legend(['Train', 'Validation'], loc='upper left')\n",
    "plt.show()\n",
    "\n",
    "# Plot training & validation loss values\n",
    "plt.plot(history.history['loss'])\n",
    "plt.plot(history.history['val_loss'])\n",
    "plt.title('Model loss')\n",
    "plt.ylabel('Loss')\n",
    "plt.xlabel('Epoch')\n",
    "plt.legend(['Train', 'Validation'], loc='upper left')\n",
    "plt.show()"
   ]
  },
  {
   "cell_type": "code",
   "execution_count": 16,
   "metadata": {},
   "outputs": [
    {
     "name": "stdout",
     "output_type": "stream",
     "text": [
      "[INFO] evaluating after fine-tuning network...\n",
      "               precision    recall  f1-score   support\n",
      "\n",
      "Black_Measles       1.00      1.00      1.00        10\n",
      "     Blackrot       1.00      1.00      1.00        10\n",
      "   Isariopsis       1.00      1.00      1.00        10\n",
      "  MDB_disease       1.00      1.00      1.00        10\n",
      "   No_disease       1.00      0.90      0.95        10\n",
      "       Spyder       0.91      1.00      0.95        10\n",
      "      mildiou       1.00      1.00      1.00        10\n",
      "\n",
      "    micro avg       0.99      0.99      0.99        70\n",
      "    macro avg       0.99      0.99      0.99        70\n",
      " weighted avg       0.99      0.99      0.99        70\n",
      "\n"
     ]
    }
   ],
   "source": [
    "from sklearn.metrics import classification_report\n",
    "print(\"[INFO] evaluating after fine-tuning network...\")\n",
    "test_generator.reset()\n",
    "pred = model.predict_generator(test_generator)\n",
    "pred = np.argmax(pred, axis=1)\n",
    "print(classification_report(test_generator.classes, pred,target_names=test_generator.class_indices.keys()))\n",
    " "
   ]
  },
  {
   "cell_type": "code",
   "execution_count": 17,
   "metadata": {},
   "outputs": [],
   "source": [
    "#Simple program to plot confusion matrix (you can find this in scikit learn documentation)\n",
    "def plot_confusion_matrix(cm, classes,\n",
    "                          normalize=False,\n",
    "                          title='Confusion matrix',\n",
    "                          cmap=plt.cm.Blues):\n",
    "    \"\"\"\n",
    "    This function prints and plots the confusion matrix.\n",
    "    Normalization can be applied by setting `normalize=True`.\n",
    "    \"\"\"\n",
    "    if normalize:\n",
    "        cm = cm.astype('float') / cm.sum(axis=1)[:, np.newaxis]\n",
    "        print(\"Normalized confusion matrix\")\n",
    "    else:\n",
    "        print('Confusion matrix, without normalization')\n",
    "\n",
    "    print(cm)\n",
    "\n",
    "    plt.imshow(cm, interpolation='nearest', cmap=cmap)\n",
    "    plt.title(title)\n",
    "    plt.colorbar()\n",
    "    tick_marks = np.arange(len(classes))\n",
    "    plt.xticks(tick_marks, classes, rotation=45)\n",
    "    plt.yticks(tick_marks, classes)\n",
    "\n",
    "    fmt = '.2f' if normalize else 'd'\n",
    "    thresh = cm.max() / 2.\n",
    "    for i, j in itertools.product(range(cm.shape[0]), range(cm.shape[1])):\n",
    "        plt.text(j, i, format(cm[i, j], fmt),\n",
    "                 horizontalalignment=\"center\",\n",
    "                 color=\"white\" if cm[i, j] > thresh else \"black\")\n",
    "\n",
    "    plt.ylabel('True label')\n",
    "    plt.xlabel('Predicted label')\n",
    "    plt.tight_layout()"
   ]
  },
  {
   "cell_type": "code",
   "execution_count": 22,
   "metadata": {},
   "outputs": [],
   "source": [
    "#predict\n",
    "Prediction = model.predict_generator(test_generator,steps=5)"
   ]
  },
  {
   "cell_type": "code",
   "execution_count": 23,
   "metadata": {},
   "outputs": [],
   "source": [
    "cm = confusion_matrix(test_generator.classes,Prediction.argmax(axis=1))"
   ]
  },
  {
   "cell_type": "code",
   "execution_count": 24,
   "metadata": {},
   "outputs": [
    {
     "name": "stdout",
     "output_type": "stream",
     "text": [
      "Confusion matrix, without normalization\n",
      "[[10  0  0  0  0  0  0]\n",
      " [ 0 10  0  0  0  0  0]\n",
      " [ 0  0 10  0  0  0  0]\n",
      " [ 0  0  0 10  0  0  0]\n",
      " [ 0  0  0  0  9  1  0]\n",
      " [ 0  0  0  0  0 10  0]\n",
      " [ 0  0  0  0  0  0 10]]\n"
     ]
    },
    {
     "data": {
      "image/png": "[encoded data removed]",
      "text/plain": [
       "<Figure size 432x288 with 2 Axes>"
      ]
     },
     "metadata": {
      "needs_background": "light"
     },
     "output_type": "display_data"
    }
   ],
   "source": [
    "cm_plot_labels = ['Black_Measles','Blackrot','Isariopsis',\"MDB_disease\",\"No_disease\",\"Spyder\",\"mildou\"]\n",
    "plot_confusion_matrix(cm,cm_plot_labels,title = 'Confusion Matrix')"
   ]
  },
  {
   "cell_type": "markdown",
   "metadata": {},
   "source": [
    "# Testing"
   ]
  },
  {
   "cell_type": "code",
   "execution_count": 3,
   "metadata": {},
   "outputs": [],
   "source": [
    "from keras.models import load_model\n",
    "\n",
    "model = load_model('../saved_models/resnet34.h5')"
   ]
  },
  {
   "cell_type": "code",
   "execution_count": 4,
   "metadata": {},
   "outputs": [],
   "source": [
    "import cv2\n",
    "import imutils\n",
    "import numpy as np\n",
    "# load the input image and then clone it so we can draw on it later\n",
    "image = cv2.imread('../Dataset/test/Spyder/1_spyder134 resized.jpg')\n",
    "output = image.copy()\n",
    "output = imutils.resize(output, width=400)\n",
    " \n",
    "# our model was trained on RGB ordered images but OpenCV represents\n",
    "# images in BGR order, so swap the channels, and then resize to\n",
    "# 224x224 (the input dimensions for VGG16)\n",
    "image = cv2.cvtColor(image, cv2.COLOR_BGR2RGB)\n",
    "image = cv2.resize(image, (256, 256))\n",
    "\n",
    "image = np.reshape(image,[1,256,256,3]) \n",
    "image = image.astype(\"float32\")/255\n",
    "\n",
    "\n",
    "#predict\n",
    "pred = model.predict(image)\n",
    "\n",
    "\n",
    "#list the classes\n",
    "classes =['Black_Measles','Blackrot','Isariopsis',\"MDB_disease\",\"No_disease\",\"Spyder\",\"mildiou\"]\n",
    "\n",
    "#label\n",
    "i = np.argmax(pred)\n",
    "label = classes[i]\n",
    "\n",
    "# draw the prediction on the output image\n",
    "text = \"{}: {:.2f}%\".format(label, pred.item(i) * 100)\n",
    "cv2.putText(output, text, (3, 20), cv2.FONT_HERSHEY_SIMPLEX, 0.5,(0, 0, 255), 2)\n",
    "# show the output image\n",
    "cv2.imshow(\"Output\", output)\n",
    "cv2.waitKey(0)\n",
    "cv2.destroyAllWindows()"
   ]
  },
  {
   "cell_type": "code",
   "execution_count": 5,
   "metadata": {},
   "outputs": [],
   "source": [
    "import cv2\n",
    "from keras.models import load_model\n",
    "import numpy as np\n",
    "import imutils\n",
    "from PIL import Image\n",
    "import copy\n",
    "\n",
    "#list the classes\n",
    "classes =['Black_Measles','Blackrot','Isariopsis',\"MDB_disease\",\"No_disease\",\"Spyder\",\"mildiou\"]\n",
    "\n",
    "video = cv2.VideoCapture(0)\n",
    "\n",
    "while True:\n",
    "        _, frame = video.read()\n",
    "\n",
    "        #Convert the captured frame into RGB\n",
    "\n",
    "        output = copy.copy(frame)\n",
    "        #output = imutils.resize(output, width=400)\n",
    "\n",
    "# our model was trained on RGB ordered images but OpenCV represents\n",
    "# images in BGR order, so swap the channels, and then resize to\n",
    "# 224x224 (the input dimensions for VGG16)\n",
    "        image = cv2.cvtColor(frame, cv2.COLOR_BGR2RGB)\n",
    "        image = cv2.resize(image, (256, 256))\n",
    "\n",
    "        image = np.reshape(image,[1,256,256,3]) \n",
    "        image = image.astype(\"float32\")/255\n",
    "\n",
    "        preds = model.predict(image)\n",
    "\n",
    "        #label\n",
    "        i = np.argmax(preds)\n",
    "        label = classes[i]\n",
    "\n",
    "        # draw the prediction on the output image\n",
    "        text = \"{}: {:.2f}%\".format(label, preds.item(i) * 100)\n",
    "        cv2.putText(output, text, (3, 20), cv2.FONT_HERSHEY_SIMPLEX, 0.5,(0, 0, 255), 2)\n",
    "        # show the output image\n",
    "        cv2.imshow(\"Output\", output)\n",
    "        key = cv2.waitKey(1)\n",
    "        if key ==ord('q'):\n",
    "            break\n",
    "\n",
    "video.release()\n",
    "cv2.destroyAllWindows()      "
   ]
  }
 ],
 "metadata": {
  "kernelspec": {
   "display_name": "Python 3",
   "language": "python",
   "name": "python3"
  },
  "language_info": {
   "codemirror_mode": {
    "name": "ipython",
    "version": 3
   },
   "file_extension": ".py",
   "mimetype": "text/x-python",
   "name": "python",
   "nbconvert_exporter": "python",
   "pygments_lexer": "ipython3",
   "version": "3.6.9"
  }
 },
 "nbformat": 4,
 "nbformat_minor": 2
}
